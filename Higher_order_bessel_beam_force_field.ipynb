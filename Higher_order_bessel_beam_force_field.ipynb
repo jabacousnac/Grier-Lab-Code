{
 "cells": [
  {
   "cell_type": "code",
   "execution_count": 3,
   "metadata": {},
   "outputs": [],
   "source": [
    "#Generate cmap for force field\n",
    "\n",
    "#import modules\n",
    "import numpy as np\n",
    "import scipy.special as sp\n",
    "\n",
    "#define global variables\n",
    "a = 10**-6\n",
    "Lambda = 1064*10**-9\n",
    "k = 2*np.pi/Lambda\n",
    "\n",
    "def force(m, pos):\n",
    "    #m is topological charge\n",
    "    #pos is of form [x,y,z]\n",
    "    x,y,z = pos[0], pos[1], pos[2]\n",
    "    r = (x**2 + y**2)**0.5\n",
    "    R = (r**2 + z**2)**0.5\n",
    "    if R == 0:\n",
    "        arg = 0 #bessel functions asymptote to zero at both 0 and infinity\n",
    "    else:\n",
    "        arg = a*k*r/R\n",
    "    b = sp.jv(m,arg)\n",
    "    return -4*a**4*z/(R**6)*b**2 + 2*a**5*k*r/(R**7)*b*(sp.jv(m+1,arg)-sp.jv(m-1,arg))\n",
    "    \n",
    "if __name__ == \"__main__\":\n",
    "    force(1,[0,0,0.1])\n",
    "\n"
   ]
  }
 ],
 "metadata": {
  "kernelspec": {
   "display_name": "Python 3",
   "language": "python",
   "name": "python3"
  },
  "language_info": {
   "codemirror_mode": {
    "name": "ipython",
    "version": 3
   },
   "file_extension": ".py",
   "mimetype": "text/x-python",
   "name": "python",
   "nbconvert_exporter": "python",
   "pygments_lexer": "ipython3",
   "version": "3.8.2"
  }
 },
 "nbformat": 4,
 "nbformat_minor": 4
}
