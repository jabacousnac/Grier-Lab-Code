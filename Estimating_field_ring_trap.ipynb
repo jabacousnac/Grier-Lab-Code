{
 "cells": [
  {
   "cell_type": "code",
   "execution_count": 88,
   "metadata": {},
   "outputs": [],
   "source": [
    "#Explore field behavior at different z's. \n",
    "import numpy as np\n",
    "from scipy.special import gamma, factorial\n",
    "import scipy.special as sp\n",
    "\n",
    "#define global variables\n",
    "m = 1 #topological charge    \n",
    "a = 10**-6 #radius of ring\n",
    "x, y = 1/np.sqrt(2) * a, 1/np.sqrt(2) * a #so we're on the ring\n",
    "r = np.sqrt(x**2 + y**2)\n",
    "Lambda = 1064*10**-9\n",
    "k = 2*np.pi/Lambda\n",
    "\n",
    "def find_sums(z):\n",
    "    R = np.sqrt(z**2 + r**2)\n",
    "    n, Sum1, Sum2, Sum3 = 0,0,0,0#begin sum\n",
    "    arg = a*R/z*r\n",
    "    err = 1\n",
    "    while err > 1*10**-5: #change statement to some threshold \n",
    "        now = Sum1\n",
    "        Sum1+= sp.hyp2f1(-n, -1-m, m+1, arg**2) * gamma(n+ m/2 + 3/2) * 1/factorial(n) * 1/gamma(n+2)\n",
    "        Sum2+= sp.hyp2f1(-n, -n, m, arg**2) * gamma(n + m/2) * 1/factorial(n) * 1/gamma(n+1)\n",
    "        Sum3+= sp.hyp2f1(-n, -n, m+2, arg**2) * gamma(n + m/2 + 1) * 1/factorial(n) * 1/gamma(n+1)\n",
    "        err = abs(now-Sum1)\n",
    "        n+=1\n",
    "    return [Sum1, Sum2, Sum3]\n",
    "\n",
    "def get_field(z):\n",
    "    #the field is the sum of the gamma functions*hypergeometric functions*prefactors, \n",
    "    #and there are three such contributions from three integrals, that need to be summed up\n",
    "    #we also have a prefactor, T        \n",
    "    R = np.sqrt(z**2 + r**2)\n",
    "    f = 10**-5 #estimate??\n",
    "    T = k**2 * a*f*z/(R**2) * np.exp(-1j*k*Lambda) #this term should also be multiplied by exp(i*m*theta) \n",
    "    Sums = find_sums(z)\n",
    "    field = Sums[0] * -1 * (k*r/R)**2 * (k*a/z)**m * (-1j*k/R)**(-m/2-1) + Sums[1] * -1 * (k*a/z)**m * (-1j*k/R)**(-m) + Sums[2] * -1 * (k*a/z)**(m+2) * (-1j*k/R)**(-m/2 + 1)\n",
    "    return field\n"
   ]
  },
  {
   "cell_type": "code",
   "execution_count": 90,
   "metadata": {},
   "outputs": [
    {
     "data": {
      "text/plain": [
       "(-1.0368513131651041e+27+1.036851313165104e+27j)"
      ]
     },
     "execution_count": 90,
     "metadata": {},
     "output_type": "execute_result"
    }
   ],
   "source": [
    "get_field(1*10**-6)"
   ]
  }
 ],
 "metadata": {
  "kernelspec": {
   "display_name": "Python 3",
   "language": "python",
   "name": "python3"
  },
  "language_info": {
   "codemirror_mode": {
    "name": "ipython",
    "version": 3
   },
   "file_extension": ".py",
   "mimetype": "text/x-python",
   "name": "python",
   "nbconvert_exporter": "python",
   "pygments_lexer": "ipython3",
   "version": "3.8.2"
  }
 },
 "nbformat": 4,
 "nbformat_minor": 4
}
