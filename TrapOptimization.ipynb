{
 "cells": [
  {
   "cell_type": "markdown",
   "metadata": {},
   "source": [
    "# Trap Optimization"
   ]
  },
  {
   "cell_type": "markdown",
   "metadata": {},
   "source": [
    "#### We have a desired intensity field. We are seeking a phase such that the intensity field has desired characteristics. For this purpose, implement a direct search algorithm (DSA), where we \n",
    "#### - choose a trial phase field\n",
    "#### - pick random pixel \n",
    "#### - change value of that pixel, and get a new intensity $I_m$\n",
    "#### - generate metric, and decide whether to accept or reject change\n",
    "#### - Iterate"
   ]
  },
  {
   "cell_type": "markdown",
   "metadata": {},
   "source": [
    "## Begin with desired intensity hologram\n",
    "#### $M$ bright spots, each bright spot at location $r_{m}$\n",
    "#### Say the field is a DoG\n",
    "$u(\\xi,\\eta,z) = \\frac{-u_{0}\\, i\\pi}{\\lambda z}e^{ikz + \\frac{i\\pi}{\\lambda z}(\\xi^2 + \\eta^2)} \\times [\\frac{1}{a}e^{-\\frac{\\pi^2}{\\lambda^2 z^2 a}(\\xi^2+\\eta^2)} - \\frac{1}{b}e^{-\\frac{\\pi^2}{\\lambda^2 z^2 b}(\\xi^2+\\eta^2)}]$, where $a = (\\frac{1}{\\Sigma^2}-\\frac{i\\pi}{\\lambda z})$ and $b = (\\frac{1}{\\sigma^2}-\\frac{i\\pi}{\\lambda z})$"
   ]
  },
  {
   "cell_type": "code",
   "execution_count": 436,
   "metadata": {},
   "outputs": [],
   "source": [
    "import numpy as np\n",
    "from scipy import special as sp\n",
    "from scipy import constants as sc\n",
    "from matplotlib import pyplot as plt\n",
    "\n",
    "#define relevant quantities\n",
    "P = 1 #power ~ 1 Watt\n",
    "pi = sc.pi\n",
    "e_0 = sc.epsilon_0 #vacuum permittivity\n",
    "wavelength = 1064*10**-9 \n",
    "k = 2*pi/wavelength\n",
    "w_0 = 1*10**-6 #beam waist\n",
    "z_R = pi*w_0**2/wavelength #Rayleigh range (~2.9 um)\n",
    "f = 2*10**-6 #choose some other value that may be more accurate\n",
    "u_0 = np.sqrt(P/(pi*(w_0**2*(1+(f/z_R)**2)))) #intensity is proportional to u_0^2. And u_0^2 is power/area\n",
    "\n",
    "def get_int_d_DoG():\n",
    "    #first step is to have an array for the hologram. This is the intensity, discretized. So, basically, this would be\n",
    "    #I_m(D)\n",
    "    z = f\n",
    "    kappa = 1j*pi/(wavelength*z) #quantity to simplify calculations\n",
    "    Sigma, sigma  = 10*f, 5*f #Sigma (larger value) and sigma define our fat and narrow gaussians resp.\n",
    "    a, b = (1/Sigma**2 - kappa), (1/sigma**2 - kappa)\n",
    "    xmax, dx = 10e-5, 10e-7\n",
    "    xlist = np.linspace(-xmax, xmax, int(xmax/dx))\n",
    "    ylist = np.linspace(-xmax, xmax, int(xmax/dx))\n",
    "    u_d_DoG = np.zeros([len(range(int(xmax/dx))),len(range(int(xmax/dx)))], dtype=\"complex_\") #desired field\n",
    "    int_d_DoG = np.zeros([len(range(int(xmax/dx))),len(range(int(xmax/dx)))]) #desired intensity of the hologram, DoG\n",
    "    #my_hist = [] #a histogram to map out distributions of intensity values @ hologram\n",
    "    for xi in range(len(xlist)):\n",
    "        for yi in range(len(ylist)):\n",
    "            #xi and yi will denote the pixel\n",
    "            x, y = xlist[xi], ylist[yi]\n",
    "            u = -kappa*u_0 *  np.exp(1j*k*z + kappa*(x**2+y**2)) * \\\n",
    "            ((1/a) * np.exp(-pi**2 * (x**2+y**2) /(wavelength**2*z**2*a)) - \\\n",
    "            (1/b) * np.exp(-pi**2 * (x**2+y**2) /(wavelength**2*z**2*b)))\n",
    "            I = np.imag(u)**2 + np.real(u)**2\n",
    "            u_d_DoG[xi][yi] = u\n",
    "            int_d_DoG[xi][yi] = I\n",
    "    #counter = [x for x in int_d_DoG.flatten() if x!=0] #found 436 pixels\n",
    "    #print(len(counter))\n",
    "    #        my_hist.append(I)\n",
    "    #plt.figure(0)\n",
    "    #plt.imshow(int_d_DoG, cmap = 'gray', interpolation = 'nearest')\n",
    "    #plt.colorbar()\n",
    "    ###distribution of intensities\n",
    "    #plt.figure(1)\n",
    "    #a = np.hstack(my_hist)\n",
    "    #plt.hist(a, density=False, bins='auto') \n",
    "    #plt.ylabel('counts')\n",
    "    #plt.xlabel('$\\mathrm{log}_{10}$ intensity')\n",
    "    #plt.show()\n",
    "    return u_d_DoG\n",
    "\n",
    "def get_radius():\n",
    "    y,z = 0,f\n",
    "    kappa = 1j*pi/(wavelength*z) #quantity to simplify calculations\n",
    "    Sigma, sigma  = 10*f, 5*f #Sigma (larger value) and sigma define our fat and narrow gaussians resp.\n",
    "    a, b = (1/Sigma**2 - kappa), (1/sigma**2 - kappa)\n",
    "    xmax, dx = 10e-5, 10e-7\n",
    "    xlist = np.linspace(-xmax, xmax, int(xmax/dx))\n",
    "    intlist = [] #intensity list\n",
    "    for x in xlist:\n",
    "        u = -kappa*u_0 *  np.exp(1j*k*z + kappa*(x**2+y**2)) * \\\n",
    "        ((1/a) * np.exp(-pi**2 * (x**2+y**2) /(wavelength**2*z**2*a)) - \\\n",
    "        (1/b) * np.exp(-pi**2 * (x**2+y**2) /(wavelength**2*z**2*b)))\n",
    "        I = np.imag(u)**2 + np.real(u)**2\n",
    "        intlist.append(I)\n",
    "    plt.plot(xlist, np.log10(intlist),'r-')\n",
    "    index = [q for q, value in enumerate(intlist) if np.log10(value) > 0]\n",
    "    print('0 @ r = ', abs(xlist[index[0]]))\n",
    "    return"
   ]
  },
  {
   "cell_type": "code",
   "execution_count": 409,
   "metadata": {
    "scrolled": false
   },
   "outputs": [
    {
     "name": "stdout",
     "output_type": "stream",
     "text": [
      "0 @ r =  7.171717171717172e-05\n"
     ]
    },
    {
     "data": {
      "image/png": "[encoded data removed]",
      "text/plain": [
       "<Figure size 432x288 with 1 Axes>"
      ]
     },
     "metadata": {
      "needs_background": "light"
     },
     "output_type": "display_data"
    }
   ],
   "source": [
    "get_radius()"
   ]
  },
  {
   "cell_type": "code",
   "execution_count": 407,
   "metadata": {
    "scrolled": false
   },
   "outputs": [
    {
     "data": {
      "image/png": "[encoded data removed]",
      "text/plain": [
       "<Figure size 432x288 with 2 Axes>"
      ]
     },
     "metadata": {
      "needs_background": "light"
     },
     "output_type": "display_data"
    }
   ],
   "source": [
    "get_int_d_DoG()"
   ]
  },
  {
   "cell_type": "markdown",
   "metadata": {},
   "source": [
    "#### Notes:\n",
    "#### One of the degrees of freedom is the DoG shape, defined by $\\Sigma$ and $\\sigma$, and we can choose what suits our fancy. They ought to be ~$f$. "
   ]
  },
  {
   "cell_type": "markdown",
   "metadata": {},
   "source": [
    "## Metropolis Algo"
   ]
  },
  {
   "cell_type": "code",
   "execution_count": 507,
   "metadata": {},
   "outputs": [],
   "source": [
    "import random\n",
    "from numpy import fft\n",
    "import sys\n",
    "np.set_printoptions(threshold=sys.maxsize) #to view full array\n",
    "\n",
    "#first, we need a function that takes an array of phase, and returns value of pixels. And we need another function \n",
    "    #that does the reverse.\n",
    "def pixelate(Phi):\n",
    "    #Phi goes from 0->2*pi\n",
    "    Phi_discrete = Phi.copy()\n",
    "    for row in range(len(Phi)):\n",
    "        for col in range(len(Phi)):\n",
    "            Phi_discrete[row][col] = np.rint(Phi[row][col]/(2*pi) * 256) #[0,255]\n",
    "    return Phi_discrete\n",
    "\n",
    "def unpixelate(Phi_discrete):\n",
    "    #Phi_discrete goes from 0->255\n",
    "    Phi = Phi_discrete.copy()\n",
    "    for row in range(len(Phi_discrete)):\n",
    "        for col in range(len(Phi_discrete)):\n",
    "            Phi[row][col] = np.rint(Phi_discrete[row][col]*(2*pi) / 256) #[0,2*pi]\n",
    "    return Phi\n",
    "\n",
    "def fourier_transf():\n",
    "    #input a scalar field, perform a fourier transform, and obtain phase and amplitude\n",
    "    u = get_int_d_DoG() #DoG\n",
    "    u_f = fft.fft2(u)\n",
    "    magnitude = np.abs(u_f)\n",
    "    phase = np.angle(u_f) #+ pi #shift from [-pi,pi] -> [0, 2*pi]\n",
    "    return phase\n",
    "\n",
    "def transf_function(rho_j, phi_j): #rho_j and phi_j\n",
    "    #for every pixel in the DOE, there exists a transfer function\n",
    "    xmax, dx = 10e-5, 10e-7\n",
    "    xlist = np.linspace(-xmax, xmax, int(xmax/dx))\n",
    "    ylist = np.linspace(-xmax, xmax, int(xmax/dx))    \n",
    "    T = np.zeros([len(range(int(xmax/dx))),len(range(int(xmax/dx)))], dtype=\"complex_\")\n",
    "    for x_index in range(len(T)):\n",
    "        for y_index in range(len(T)):\n",
    "            x = xlist[x_index]\n",
    "            y = ylist[y_index]\n",
    "            r = np.sqrt(x**2 + y**2)\n",
    "            if x!= 0:\n",
    "                theta = np.arctan(y/x)\n",
    "            else:\n",
    "                theta = pi/2\n",
    "            arg = -1j*k/f * (r*rho_j*np.cos(phi_j-theta))\n",
    "            T[x_index][y_index] = np.exp(arg)\n",
    "    return T\n",
    "\n",
    "def aperture():\n",
    "    #return an array full of zeros and 1, that simulates a top-hat function (1 inside aperture, 0 outside)\n",
    "    xmax, dx = 10e-5, 10e-7\n",
    "    u = np.zeros([len(range(int(xmax/dx))),len(range(int(xmax/dx)))])\n",
    "    r_lim = 7.171717171717172e-05 #calculated from before\n",
    "    xlist = np.linspace(-xmax, xmax, int(xmax/dx))\n",
    "    ylist = np.linspace(-xmax, xmax, int(xmax/dx))\n",
    "    for xi in range(len(xlist)):\n",
    "        for yi in range(len(ylist)):\n",
    "            r = np.sqrt(xlist[xi]**2 + ylist[yi]**2)\n",
    "            if r<r_lim:\n",
    "                u[xi][yi]=1\n",
    "    #plt.imshow(u, cmap = 'gray', interpolation = 'nearest')\n",
    "    #plt.colorbar()\n",
    "    #plt.show()\n",
    "    return u\n",
    "            \n",
    "def metropolis(u, trial_phase): #provide the desired scalar amplitude, and the trial phase. \n",
    "#1. We first pixelate trial phase.\n",
    "    mylen = len(trial_phase)\n",
    "    Phi_discrete = pixelate(trial_phase)\n",
    "    Phi_discrete_upd = Phi_discrete.copy() #make a copy\n",
    "#2. get a random location, a random value, and the current value\n",
    "    random_loc = [random.randrange(0,mylen), random.randrange(0,mylen)]\n",
    "    current_px = Phi_discrete[random.randrange(0,mylen)][random.randrange(0,mylen)]\n",
    "    random_px = random.randrange(0,256) \n",
    "    while current_px == random_px:\n",
    "        random_px = random.randrange(0,256) \n",
    "#3. for these random values, we need to compute phi_j, delta_phi_j, so the corresponding change in the field\n",
    "        #may be found. rho_j, as well\n",
    "    phi_j, delta_phi_j = random_px*2*pi/256, (random_px-current_px)*2*pi/256\n",
    "    xmax, dx = 10e-5, 10e-7\n",
    "    rho_j = np.sqrt((-xmax+(random_loc[0]*dx/mylen))**2 + (-xmax+(random_loc[1]*dx/mylen))**2)\n",
    "#4. now, let's see how it affects the field\n",
    "    K = np.exp(1j*trial_phase)\n",
    "    K_inv = np.conj(K)\n",
    "    T = transf_function(rho_j,phi_j)\n",
    "    E = K_inv * T * np.exp(1j*(current_px*2*pi/256)) * u #existing field\n",
    "    delta_E = K_inv * T * np.exp(1j*phi_j) * (np.exp(1j*delta_phi_j)-1) * u\n",
    "#5. add this to the existing field\n",
    "    E_new = E + delta_E\n",
    "#6. Obtain desired intensity, and current intensity, normalized.\n",
    "    I_d = np.real(get_int_d_DoG())**2 + np.imag(get_int_d_DoG())**2\n",
    "    norm_I_d = I_d / np.sum(I_d.flatten()) #normalize the intensity matrix for calculation of the metric\n",
    "    I = np.real(E_new)**2 + np.imag(E_new)**2\n",
    "    plt.imshow(I, cmap = 'gray', interpolation = 'nearest')\n",
    "    plt.colorbar()\n",
    "    norm_I = I / np.sum(I.flatten())\n",
    "#7. obtain the parameters gamma, sigma, f=1/2, for our metric C.\n",
    "    gamma = np.sum(norm_I_d*norm_I)/np.sum(norm_I_d**2)\n",
    "    sigma = np.sqrt(1/436 * np.sum((norm_I - gamma*norm_I_d)**2)) #1/436 px where non-zero intensity\n",
    "    C = -np.average(norm_I) + (1/2 * sigma)\n",
    "    print(-np.average(norm_I), sigma, gamma, C)\n",
    "#7b)#trying other metrics: U\n",
    "    xi = I/I_d\n",
    "    xi = np.where(np.isnan(xi), 0, xi)\n",
    "    xi_max = np.max(xi)\n",
    "    xi_min = np.min([x for x in xi.flatten() if x!= 0])\n",
    "#7c)#yet another metric: chisq\n",
    "    eps = 0.8 #diffraction efficiency\n",
    "    chisq = np.sum((norm_I - eps*norm_I_d)**2)\n",
    "#8. Last step is to accept change, or not.\n",
    "    Phi_discrete_upd[random_loc[0]][random_loc[1]] = random_px #update phase (for now, accept with prob = 1)\n",
    "    return unpixelate(Phi_discrete_upd)\n",
    "\n",
    "def run(k):\n",
    "    counter = 0\n",
    "    phase = fourier_transf() #start with the trial phase\n",
    "    u = aperture()\n",
    "    #plt.figure(0)\n",
    "    #plt.imshow(phase, cmap = 'gray', interpolation = 'nearest')\n",
    "    #plt.title('before')\n",
    "    #plt.colorbar()\n",
    "    #plt.show()\n",
    "    while counter < k:\n",
    "        counter+=1\n",
    "        phase = metropolis(u,phase)\n",
    "    #plt.figure(1)\n",
    "    #plt.imshow(phase, cmap = 'gray', interpolation = 'nearest')\n",
    "    #plt.title('after ' + str(k) + ' runs')\n",
    "    #plt.colorbar()\n",
    "    return"
   ]
  },
  {
   "cell_type": "code",
   "execution_count": 508,
   "metadata": {},
   "outputs": [
    {
     "name": "stdout",
     "output_type": "stream",
     "text": [
      "-0.00010000000000000005 0.0007163292497386165 0.11852889387166383 0.0002581646248693082\n",
      "-0.00010000000000000002 0.0007163292497386165 0.1185288938716638 0.0002581646248693083\n",
      "-0.00010000000000000005 0.0007163292497386168 0.11852889387166383 0.00025816462486930833\n"
     ]
    },
    {
     "data": {
      "image/png": "[encoded data removed]",
      "text/plain": [
       "<Figure size 432x288 with 4 Axes>"
      ]
     },
     "metadata": {
      "needs_background": "light"
     },
     "output_type": "display_data"
    }
   ],
   "source": [
    "run(3)"
   ]
  },
  {
   "cell_type": "code",
   "execution_count": 430,
   "metadata": {},
   "outputs": [
    {
     "data": {
      "image/png": "[encoded data removed]",
      "text/plain": [
       "<Figure size 432x288 with 2 Axes>"
      ]
     },
     "metadata": {
      "needs_background": "light"
     },
     "output_type": "display_data"
    }
   ],
   "source": [
    "aperture()"
   ]
  },
  {
   "cell_type": "markdown",
   "metadata": {},
   "source": [
    "#### Next Steps:\n",
    "#### 1. Get radius for intensity. Define region of interest as lying inside this circle.  DONE\n",
    "#### 2. Recalculate E_m by setting intensity to 1 inside this region, 0 outside (top hat function). ALMOST DONE (is aperture too large?)\n",
    "#### 3. Get metrics\n",
    "#### 4. Check out behaviors "
   ]
  }
 ],
 "metadata": {
  "kernelspec": {
   "display_name": "Python 3",
   "language": "python",
   "name": "python3"
  },
  "language_info": {
   "codemirror_mode": {
    "name": "ipython",
    "version": 3
   },
   "file_extension": ".py",
   "mimetype": "text/x-python",
   "name": "python",
   "nbconvert_exporter": "python",
   "pygments_lexer": "ipython3",
   "version": "3.8.2"
  }
 },
 "nbformat": 4,
 "nbformat_minor": 4
}
