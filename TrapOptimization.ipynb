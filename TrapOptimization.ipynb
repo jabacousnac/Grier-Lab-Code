{
 "cells": [
  {
   "cell_type": "markdown",
   "metadata": {},
   "source": [
    "# Trap Optimization"
   ]
  },
  {
   "cell_type": "markdown",
   "metadata": {},
   "source": [
    "#### We have a desired intensity field. We are seeking a phase such that the intensity field has desired characteristics. For this purpose, implement a direct search algorithm (DSA), where we \n",
    "#### - choose a trial phase field\n",
    "#### - pick random pixel \n",
    "#### - change value of that pixel, and get a new intensity $I_m$\n",
    "#### - generate metric, and decide whether to accept or reject change\n",
    "#### - Iterate"
   ]
  },
  {
   "cell_type": "markdown",
   "metadata": {},
   "source": [
    "## Begin with desired intensity hologram\n",
    "#### $M$ bright spots, each bright spot at location $r_{m}$\n",
    "#### Say the field is a DoG\n",
    "$u(\\xi,\\eta,z) = \\frac{-u_{0}\\, i\\pi}{\\lambda z}e^{ikz + \\frac{i\\pi}{\\lambda z}(\\xi^2 + \\eta^2)} \\times [\\frac{1}{a}e^{-\\frac{\\pi^2}{\\lambda^2 z^2 a}(\\xi^2+\\eta^2)} - \\frac{1}{b}e^{-\\frac{\\pi^2}{\\lambda^2 z^2 b}(\\xi^2+\\eta^2)}]$, where $a = (\\frac{1}{\\Sigma^2}-\\frac{i\\pi}{\\lambda z})$ and $b = (\\frac{1}{\\sigma^2}-\\frac{i\\pi}{\\lambda z})$"
   ]
  },
  {
   "cell_type": "code",
   "execution_count": 86,
   "metadata": {},
   "outputs": [],
   "source": [
    "import numpy as np\n",
    "from scipy import special as sp\n",
    "from scipy import constants as sc\n",
    "from matplotlib import pyplot as plt\n",
    "\n",
    "#define relevant quantities\n",
    "P = 1 #power ~ 1 Watt\n",
    "pi = sc.pi\n",
    "e_0 = sc.epsilon_0 #vacuum permittivity\n",
    "wavelength = 1064*10**-9 \n",
    "k = 2*pi/wavelength\n",
    "w_0 = 1*10**-6 #beam waist\n",
    "z_R = pi*w_0**2/wavelength #Rayleigh range (~2.9 um)\n",
    "f = 2*10**-6 #choose some other value that may be more accurate\n",
    "u_0 = np.sqrt(P/(pi*(w_0**2*(1+(f/z_R)**2)))) #intensity is proportional to u_0^2. And u_0^2 is power/area\n",
    "\n",
    "def optimize():\n",
    "    #first step is to have an array for the hologram. This is the intensity, discretized. So, basically, this would be\n",
    "    #I_m(D)\n",
    "    z = f\n",
    "    kappa = 1j*pi/(wavelength*z) #quantity to simplify calculations\n",
    "    Sigma, sigma  = 10*f, 5*f #Sigma (larger value) and sigma define our fat and narrow gaussians resp.\n",
    "    a, b = (1/Sigma**2 - kappa), (1/sigma**2 - kappa)\n",
    "    xmax, dx = 10e-5, 10e-7\n",
    "    xlist = np.linspace(-xmax, xmax, int(xmax/dx))\n",
    "    ylist = np.linspace(-xmax, xmax, int(xmax/dx))\n",
    "    int_d_DoG = np.zeros([len(range(int(xmax/dx))),len(range(int(xmax/dx)))]) #desired intensity of the hologram, DoG\n",
    "    for xi in range(len(xlist)):\n",
    "        for yi in range(len(ylist)):\n",
    "            #xi and yi will denote the pixel\n",
    "            x, y = xlist[xi], ylist[yi]\n",
    "            u1 = -kappa*u_0 *  np.exp(1j*k*z + kappa*(x**2+y**2))\n",
    "            u2 = np.exp(-pi**2 * (x**2+y**2) /(wavelength**2*z**2*a))\n",
    "            u = -kappa*u_0 *  np.exp(1j*k*z + kappa*(x**2+y**2)) * \\\n",
    "            ((1/a) * np.exp(-pi**2 * (x**2+y**2) /(wavelength**2*z**2*a)) - \\\n",
    "            (1/b) * np.exp(-pi**2 * (x**2+y**2) /(wavelength**2*z**2*b)))\n",
    "            int_d_DoG[xi][yi] = np.imag(u)**2 + np.real(u)**2\n",
    "    plt.imshow(int_d_DoG, cmap = 'gray', interpolation = 'nearest')\n",
    "    return \n",
    "    #second step is to have a trial phase function. e.g. phi = l*theta, or phi = k*rho^2*z/(2*f^2)\n",
    "    #third step is to change a pixel of this phase randomly -> observe corresponding new intensity I_m\n",
    "    #if improved, accept. Else, reject."
   ]
  },
  {
   "cell_type": "code",
   "execution_count": 87,
   "metadata": {},
   "outputs": [
    {
     "data": {
      "image/png": "[encoded data removed]",
      "text/plain": [
       "<Figure size 432x288 with 1 Axes>"
      ]
     },
     "metadata": {
      "needs_background": "light"
     },
     "output_type": "display_data"
    }
   ],
   "source": [
    "optimize()"
   ]
  },
  {
   "cell_type": "markdown",
   "metadata": {},
   "source": [
    "#### Notes:\n",
    "#### One of the degrees of freedom is the DoG shape, defined by $\\Sigma$ and $\\sigma$, and we can choose what suits our fancy. They ought to be ~$f$. "
   ]
  }
 ],
 "metadata": {
  "kernelspec": {
   "display_name": "Python 3",
   "language": "python",
   "name": "python3"
  },
  "language_info": {
   "codemirror_mode": {
    "name": "ipython",
    "version": 3
   },
   "file_extension": ".py",
   "mimetype": "text/x-python",
   "name": "python",
   "nbconvert_exporter": "python",
   "pygments_lexer": "ipython3",
   "version": "3.8.2"
  }
 },
 "nbformat": 4,
 "nbformat_minor": 4
}
