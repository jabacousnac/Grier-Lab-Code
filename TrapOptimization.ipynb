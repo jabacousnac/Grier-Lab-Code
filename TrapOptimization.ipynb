{
 "cells": [
  {
   "cell_type": "markdown",
   "metadata": {},
   "source": [
    "# Trap Optimization"
   ]
  },
  {
   "cell_type": "markdown",
   "metadata": {},
   "source": [
    "#### We have a desired intensity field. We are seeking a phase such that the intensity field has desired characteristics. For this purpose, implement a direct search algorithm (DSA), where we \n",
    "#### - choose a trial phase field\n",
    "#### - pick random pixel \n",
    "#### - change value of that pixel, and get a new intensity $I_m$\n",
    "#### - generate metric, and decide whether to accept or reject change\n",
    "#### - Iterate"
   ]
  },
  {
   "cell_type": "markdown",
   "metadata": {},
   "source": [
    "## Begin with desired intensity hologram\n",
    "#### $M$ bright spots, each bright spot at location $r_{m}$\n",
    "#### Say the field is a DoG\n",
    "$u(\\xi,\\eta,z) = \\frac{-u_{0}\\, i\\pi}{\\lambda z}e^{ikz + \\frac{i\\pi}{\\lambda z}(\\xi^2 + \\eta^2)} \\times [\\frac{1}{a}e^{-\\frac{\\pi^2}{\\lambda^2 z^2 a}(\\xi^2+\\eta^2)} - \\frac{1}{b}e^{-\\frac{\\pi^2}{\\lambda^2 z^2 b}(\\xi^2+\\eta^2)}]$, where $a = (\\frac{1}{\\Sigma^2}-\\frac{i\\pi}{\\lambda z})$ and $b = (\\frac{1}{\\sigma^2}-\\frac{i\\pi}{\\lambda z})$"
   ]
  },
  {
   "cell_type": "code",
   "execution_count": 331,
   "metadata": {},
   "outputs": [],
   "source": [
    "import numpy as np\n",
    "from scipy import special as sp\n",
    "from scipy import constants as sc\n",
    "from matplotlib import pyplot as plt\n",
    "\n",
    "#define relevant quantities\n",
    "P = 1 #power ~ 1 Watt\n",
    "pi = sc.pi\n",
    "e_0 = sc.epsilon_0 #vacuum permittivity\n",
    "wavelength = 1064*10**-9 \n",
    "k = 2*pi/wavelength\n",
    "w_0 = 1*10**-6 #beam waist\n",
    "z_R = pi*w_0**2/wavelength #Rayleigh range (~2.9 um)\n",
    "f = 2*10**-6 #choose some other value that may be more accurate\n",
    "u_0 = np.sqrt(P/(pi*(w_0**2*(1+(f/z_R)**2)))) #intensity is proportional to u_0^2. And u_0^2 is power/area\n",
    "\n",
    "def get_int_d_DoG():\n",
    "    #first step is to have an array for the hologram. This is the intensity, discretized. So, basically, this would be\n",
    "    #I_m(D)\n",
    "    z = f\n",
    "    kappa = 1j*pi/(wavelength*z) #quantity to simplify calculations\n",
    "    Sigma, sigma  = 10*f, 5*f #Sigma (larger value) and sigma define our fat and narrow gaussians resp.\n",
    "    a, b = (1/Sigma**2 - kappa), (1/sigma**2 - kappa)\n",
    "    xmax, dx = 10e-5, 10e-7\n",
    "    xlist = np.linspace(-xmax, xmax, int(xmax/dx))\n",
    "    ylist = np.linspace(-xmax, xmax, int(xmax/dx))\n",
    "    u_d_DoG = np.zeros([len(range(int(xmax/dx))),len(range(int(xmax/dx)))], dtype=\"complex_\") #desired field\n",
    "    int_d_DoG = np.zeros([len(range(int(xmax/dx))),len(range(int(xmax/dx)))]) #desired intensity of the hologram, DoG\n",
    "    #my_hist = [] #a histogram to map out distributions of intensity values @ hologram\n",
    "    for xi in range(len(xlist)):\n",
    "        for yi in range(len(ylist)):\n",
    "            #xi and yi will denote the pixel\n",
    "            x, y = xlist[xi], ylist[yi]\n",
    "            u1 = -kappa*u_0 *  np.exp(1j*k*z + kappa*(x**2+y**2))\n",
    "            u2 = np.exp(-pi**2 * (x**2+y**2) /(wavelength**2*z**2*a))\n",
    "            u = -kappa*u_0 *  np.exp(1j*k*z + kappa*(x**2+y**2)) * \\\n",
    "            ((1/a) * np.exp(-pi**2 * (x**2+y**2) /(wavelength**2*z**2*a)) - \\\n",
    "            (1/b) * np.exp(-pi**2 * (x**2+y**2) /(wavelength**2*z**2*b)))\n",
    "            u_d_DoG[xi][yi] = u\n",
    "            int_d_DoG[xi][yi] = np.imag(u)**2 + np.real(u)**2\n",
    "            #my_hist.append(np.log10(np.imag(u)**2 + np.real(u)**2))\n",
    "    #plt.figure(0)\n",
    "    #plt.imshow(int_d_DoG, cmap = 'gray', interpolation = 'nearest')\n",
    "    #plt.colorbar()\n",
    "    ###distribution of intensities\n",
    "    #plt.figure(1)\n",
    "    #a = np.hstack(my_hist)\n",
    "    #plt.hist(a, density=False, bins='auto') \n",
    "    #plt.ylabel('counts')\n",
    "    #plt.xlabel('$\\mathrm{log}_{10}$ intensity')\n",
    "    #plt.show()\n",
    "    return u_d_DoG\n",
    "    #second step is to have a trial phase function. e.g. phi = l*theta, or phi = k*rho^2*z/(2*f^2)\n",
    "    #third step is to change a pixel of this phase randomly -> observe corresponding new intensity I_m\n",
    "    #if improved, accept. Else, reject."
   ]
  },
  {
   "cell_type": "code",
   "execution_count": 140,
   "metadata": {},
   "outputs": [
    {
     "data": {
      "image/png": "[encoded data removed]",
      "text/plain": [
       "<Figure size 432x288 with 2 Axes>"
      ]
     },
     "metadata": {
      "needs_background": "light"
     },
     "output_type": "display_data"
    },
    {
     "data": {
      "image/png": "[encoded data removed]",
      "text/plain": [
       "<Figure size 432x288 with 1 Axes>"
      ]
     },
     "metadata": {
      "needs_background": "light"
     },
     "output_type": "display_data"
    },
    {
     "data": {
      "text/plain": [
       "array([[8.11938541e-33, 5.99820090e-32, 4.25396990e-31, ...,\n",
       "        4.25396990e-31, 5.99820090e-32, 8.11938541e-33],\n",
       "       [5.99820090e-32, 4.43117456e-31, 3.14262285e-30, ...,\n",
       "        3.14262285e-30, 4.43117456e-31, 5.99820090e-32],\n",
       "       [4.25396990e-31, 3.14262285e-30, 2.22877213e-29, ...,\n",
       "        2.22877213e-29, 3.14262285e-30, 4.25396990e-31],\n",
       "       ...,\n",
       "       [4.25396990e-31, 3.14262285e-30, 2.22877213e-29, ...,\n",
       "        2.22877213e-29, 3.14262285e-30, 4.25396990e-31],\n",
       "       [5.99820090e-32, 4.43117456e-31, 3.14262285e-30, ...,\n",
       "        3.14262285e-30, 4.43117456e-31, 5.99820090e-32],\n",
       "       [8.11938541e-33, 5.99820090e-32, 4.25396990e-31, ...,\n",
       "        4.25396990e-31, 5.99820090e-32, 8.11938541e-33]])"
      ]
     },
     "execution_count": 140,
     "metadata": {},
     "output_type": "execute_result"
    }
   ],
   "source": [
    "get_int_d_DoG()"
   ]
  },
  {
   "cell_type": "markdown",
   "metadata": {},
   "source": [
    "#### Notes:\n",
    "#### One of the degrees of freedom is the DoG shape, defined by $\\Sigma$ and $\\sigma$, and we can choose what suits our fancy. They ought to be ~$f$. "
   ]
  },
  {
   "cell_type": "code",
   "execution_count": 342,
   "metadata": {},
   "outputs": [],
   "source": [
    "def phase():\n",
    "    #just a way to visualize different phases\n",
    "    xmax, dx = 10e-5, 10e-7\n",
    "    xlist = np.linspace(-xmax, xmax, int(xmax/dx))\n",
    "    ylist = np.linspace(-xmax, xmax, int(xmax/dx))\n",
    "    #one possibility is m*phi\n",
    "    m = 1\n",
    "    phi1 = np.zeros([len(range(int(xmax/dx))),len(range(int(xmax/dx)))]) #desired intensity of the hologram, DoG\n",
    "    #another possibility is k*r^2*z/(2*f^2)\n",
    "    phi2 = np.zeros([len(range(int(xmax/dx))),len(range(int(xmax/dx)))]) #desired intensity of the hologram, DoG\n",
    "    for xi in range(len(xlist)):\n",
    "        for yi in range(len(ylist)):\n",
    "        #xi and yi will denote the pixel\n",
    "            x, y = xlist[xi], ylist[yi]\n",
    "            if x!=0:\n",
    "                phi1[xi][yi] = 2*(m*np.arctan(y/x))+pi #make it span [0,2*pi]\n",
    "            else:\n",
    "                phi1[xi][yi] = 2*(m*pi/2)+pi\n",
    "            phi2[xi][yi] = k*(x**2+y**2)/(2*f) #z=f\n",
    "    #plt.figure(0)\n",
    "    #plt.title('$m\\phi$')\n",
    "    #plt.imshow(phi1, cmap = 'gray', interpolation = 'nearest')\n",
    "    #plt.colorbar()\n",
    "    #plt.figure(1)\n",
    "    #plt.title('$kzr^2/2f^2$')\n",
    "    #plt.imshow(phi2, cmap = 'gray', interpolation = 'nearest')\n",
    "    #plt.colorbar()\n",
    "    #K = np.exp(1j*phi1) #phase matrix \n",
    "    return phi1"
   ]
  },
  {
   "cell_type": "code",
   "execution_count": 291,
   "metadata": {
    "scrolled": false
   },
   "outputs": [
    {
     "data": {
      "image/png": "[encoded data removed]",
      "text/plain": [
       "<Figure size 432x288 with 2 Axes>"
      ]
     },
     "metadata": {
      "needs_background": "light"
     },
     "output_type": "display_data"
    },
    {
     "data": {
      "image/png": "[encoded data removed]",
      "text/plain": [
       "<Figure size 432x288 with 2 Axes>"
      ]
     },
     "metadata": {
      "needs_background": "light"
     },
     "output_type": "display_data"
    }
   ],
   "source": [
    "phase()"
   ]
  },
  {
   "cell_type": "code",
   "execution_count": 489,
   "metadata": {},
   "outputs": [],
   "source": [
    "import random\n",
    "\n",
    "#first, we need a function that takes an array of phase, and returns value of pixels. And we need another function \n",
    "    #that does the reverse.\n",
    "def pixelate(Phi):\n",
    "    #Phi goes from 0->2*pi\n",
    "    Phi_discrete = Phi.copy()\n",
    "    for row in range(len(Phi)):\n",
    "        for col in range(len(Phi)):\n",
    "            Phi_discrete[row][col] = int(Phi[row][col]/(2*pi) * 256) #[0,255]\n",
    "    return Phi_discrete\n",
    "\n",
    "def unpixelate(Phi_discrete):\n",
    "    #Phi_discrete goes from 0->255\n",
    "    Phi = Phi_discrete.copy()\n",
    "    for row in range(len(Phi_discrete)):\n",
    "        for col in range(len(Phi_discrete)):\n",
    "            Phi[row][col] = int(Phi_discrete[row][col]*(2*pi) / 256) #[0,2*pi]\n",
    "    return Phi\n",
    "\n",
    "def transf_function(rho_j, phi_j): #rho_j and phi_j\n",
    "    #for every pixel in the DOE, there exists a transfer function\n",
    "    xmax, dx = 10e-5, 10e-7\n",
    "    xlist = np.linspace(-xmax, xmax, int(xmax/dx))\n",
    "    ylist = np.linspace(-xmax, xmax, int(xmax/dx))    \n",
    "    T = np.zeros([len(range(int(xmax/dx))),len(range(int(xmax/dx)))], dtype=\"complex_\")\n",
    "    for x_index in range(len(T)):\n",
    "        for y_index in range(len(T)):\n",
    "            x = xlist[x_index]\n",
    "            y = ylist[y_index]\n",
    "            r = np.sqrt(x**2 + y**2)\n",
    "            if x!= 0:\n",
    "                theta = np.arctan(y/x)\n",
    "            else:\n",
    "                theta = pi/2\n",
    "            arg = -1j*k/f * (r*rho_j*np.cos(phi_j-theta))\n",
    "            T[x_index][y_index] = np.exp(arg)\n",
    "    return T\n",
    "            \n",
    "def metropolis(trial_phase):\n",
    "    #trial phase is obtained from elsewhere. We first pixelate it\n",
    "    mylen = len(trial_phase)\n",
    "    Phi_discrete = pixelate(trial_phase)\n",
    "    Phi_discrete_upd = Phi_discrete.copy() #make a copy\n",
    "    #get a random location, a random value, and the current value\n",
    "    random_loc = [random.randrange(0,mylen), random.randrange(0,mylen)]\n",
    "    random_px = random.randrange(0,255)  \n",
    "    current_px = Phi_discrete[random.randrange(0,mylen)][random.randrange(0,mylen)]\n",
    "    #for these random values, we need to compute phi_j, delta_phi_j, so the corresponding change in the field\n",
    "        #may be found. rho_j, as well\n",
    "    phi_j, delta_phi_j = random_px*2*pi/256, (random_px-current_px)*2*pi/256\n",
    "    xmax, dx = 10e-4, 10e-6\n",
    "    rho_j = np.sqrt((-xmax+(random_loc[0]*dx/mylen))**2 + (-xmax+(random_loc[0]*dx/mylen))**2)\n",
    "    #now, let's see how it affects the field\n",
    "    K = np.exp(1j*trial_phase)\n",
    "    K_inv = np.conj(K)\n",
    "    #get the T matrix\n",
    "    T = transf_function(rho_j,phi_j)\n",
    "    #we need to compute the change in field at every point. Iterate over the DOE plane. \n",
    "    u = get_int_d_DoG()\n",
    "    delta_E = K_inv * T * np.exp(1j*phi_j) * (np.exp(1j*delta_phi_j)-1) * u\n",
    "    #add this to the existing field\n",
    "    E = K_inv * T * np.exp(1j*(current_px*2*pi/256)) * u\n",
    "    E_new = E + delta_E\n",
    "    I_d = np.real(u)**2 + np.imag(u)**2\n",
    "    ave_I_d = np.average(I_d.flatten())\n",
    "    I = np.real(E_new)**2 + np.imag(E_new)**2\n",
    "    ave_I = np.average(I.flatten())\n",
    "    return [ave_I, ave_I_d] #let's leave this at that for the time being, and find an appropriate trial phase\n",
    "     \n",
    "#first, a function that gives us a trial phase (in pixels)\n",
    "def obtain_trial_phase():\n",
    "    trial_phase = phase()\n",
    "    new_trial_phase = trial_phase\n",
    "    #now, assign a value [-pi,pi]->[0,255] to each px\n",
    "    for row in range(len(trial_phase)):\n",
    "        for col in range(len(trial_phase)):\n",
    "            val = trial_phase[row][col]\n",
    "            px = val/(2*pi) * 256\n",
    "            new_trial_phase[row][col] = int(px)\n",
    "    #now we have a phase, with appropriate pixel values\n",
    "    plt.figure(0)\n",
    "    plt.imshow(new_trial_phase, cmap = 'gray', interpolation = 'nearest')\n",
    "    plt.title('Phase before')\n",
    "    plt.colorbar()\n",
    "    return new_trial_phase"
   ]
  },
  {
   "cell_type": "code",
   "execution_count": 487,
   "metadata": {},
   "outputs": [
    {
     "data": {
      "text/plain": [
       "[13599374182.581615, 1511648555.2763433]"
      ]
     },
     "execution_count": 487,
     "metadata": {},
     "output_type": "execute_result"
    }
   ],
   "source": [
    "metropolis(phase())"
   ]
  },
  {
   "cell_type": "code",
   "execution_count": 360,
   "metadata": {},
   "outputs": [
    {
     "data": {
      "text/plain": [
       "array([[192., 191., 190., ...,  65.,  64.,  64.],\n",
       "       [192., 192., 191., ...,  64.,  64.,  63.],\n",
       "       [193., 192., 192., ...,  64.,  63.,  62.],\n",
       "       ...,\n",
       "       [ 62.,  63.,  63., ..., 192., 192., 193.],\n",
       "       [ 63.,  63.,  64., ..., 191., 192., 192.],\n",
       "       [ 64.,  64.,  65., ..., 190., 191., 192.]])"
      ]
     },
     "execution_count": 360,
     "metadata": {},
     "output_type": "execute_result"
    },
    {
     "data": {
      "image/png": "[encoded data removed]",
      "text/plain": [
       "<Figure size 432x288 with 2 Axes>"
      ]
     },
     "metadata": {
      "needs_background": "light"
     },
     "output_type": "display_data"
    }
   ],
   "source": [
    "obtain_trial_phase()"
   ]
  }
 ],
 "metadata": {
  "kernelspec": {
   "display_name": "Python 3",
   "language": "python",
   "name": "python3"
  },
  "language_info": {
   "codemirror_mode": {
    "name": "ipython",
    "version": 3
   },
   "file_extension": ".py",
   "mimetype": "text/x-python",
   "name": "python",
   "nbconvert_exporter": "python",
   "pygments_lexer": "ipython3",
   "version": "3.8.2"
  }
 },
 "nbformat": 4,
 "nbformat_minor": 4
}
